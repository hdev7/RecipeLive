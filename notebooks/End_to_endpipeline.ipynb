{
 "cells": [
  {
   "cell_type": "markdown",
   "metadata": {},
   "source": [
    "### End to end pipeline\n",
    "- Integrate the image classification module and the text recipe data module to provide recommendations based on the identified pictures of veggies.\n",
    "- Load our trained model\n",
    "- Load all the data\n",
    "- Classify the images and use matching algorithm to suggest recommendations of recipes\n",
    "- Types of recommendation:\n",
    "    - 1) Recipes having all three veggies\n",
    "    - 2) Recipes having only two of three veggies\n",
    "    - 3) Recipes having only one of three veggies"
   ]
  },
  {
   "cell_type": "code",
   "execution_count": 1,
   "metadata": {},
   "outputs": [
    {
     "name": "stderr",
     "output_type": "stream",
     "text": [
      "Using TensorFlow backend.\n",
      "c:\\users\\heman\\.conda\\envs\\tensor\\lib\\site-packages\\tqdm\\std.py:648: FutureWarning: The Panel class is removed from pandas. Accessing it from the top-level namespace will also be removed in the next version\n",
      "  from pandas import Panel\n",
      "[nltk_data] Downloading package stopwords to\n",
      "[nltk_data]     C:\\Users\\heman\\Documents\\DS\\nltk_data...\n",
      "[nltk_data]   Package stopwords is already up-to-date!\n"
     ]
    }
   ],
   "source": [
    "import os\n",
    "from kerasUtil import *\n",
    "from recipeScript import *\n",
    "from miscScript import *"
   ]
  },
  {
   "cell_type": "markdown",
   "metadata": {},
   "source": [
    "### Load recipe data"
   ]
  },
  {
   "cell_type": "code",
   "execution_count": 2,
   "metadata": {},
   "outputs": [],
   "source": [
    "#de-serialize the dataframe from step 3 \n",
    "with open('df_epi_ingred.pkl','rb') as fin:\n",
    "    df = pickle.load(fin)"
   ]
  },
  {
   "cell_type": "code",
   "execution_count": 3,
   "metadata": {},
   "outputs": [
    {
     "data": {
      "text/plain": [
       "Index(['id', 'title', 'ingredients', 'tags', 'picture_link', 'instructions',\n",
       "       'url'],\n",
       "      dtype='object')"
      ]
     },
     "execution_count": 3,
     "metadata": {},
     "output_type": "execute_result"
    }
   ],
   "source": [
    "df.columns"
   ]
  },
  {
   "cell_type": "markdown",
   "metadata": {},
   "source": [
    "### Integration"
   ]
  },
  {
   "cell_type": "code",
   "execution_count": 4,
   "metadata": {},
   "outputs": [],
   "source": [
    "extractor = callModel('monet') #kerasUtil.py\n",
    "predictor = models.load_model('models/trained_model.hdf5')  #load_model is from keras\n",
    "class_dictionary = np.load('models/train_class_indices.npy').item()\n",
    "inv_map = {v:k for k,v in class_dictionary.items()}"
   ]
  },
  {
   "cell_type": "code",
   "execution_count": 5,
   "metadata": {},
   "outputs": [
    {
     "name": "stdout",
     "output_type": "stream",
     "text": [
      "... models loaded!\n",
      "The images are:  kale, broccoli, tomato\n"
     ]
    },
    {
     "name": "stderr",
     "output_type": "stream",
     "text": [
      "100%|██████████████████████████████████████████████████████████████████████████| 35965/35965 [00:07<00:00, 4791.45it/s]\n"
     ]
    },
    {
     "name": "stdout",
     "output_type": "stream",
     "text": [
      "1. Recipes with kale: 351, broccoli: 384, tomato: 4704\n",
      "2. Recipes using all 3 ingredients:  3\n",
      "3. Recipes using 2 of 3 ingredients:  115\n",
      "4. Recipes using 1 of 3 ingredients:  4704\n",
      "5. Total recipe collection:  4717\n"
     ]
    }
   ],
   "source": [
    "# Specify directory of test data (images)\n",
    "image_path_dir = 'data/test/'\n",
    "\n",
    "print('... models loaded!')\n",
    "\n",
    "# Loop over each file\n",
    "result=[]\n",
    "for pic_file in os.listdir(image_path_dir):\n",
    "    \n",
    "    image = load_img(image_path_dir+pic_file, target_size=(224,224))\n",
    "    image = img_to_array(image) / 255\n",
    "    image = np.expand_dims(image, axis=0)\n",
    "    \n",
    "    # extractor is called above \n",
    "    features = extractor.predict(image)\n",
    "    # predictor\n",
    "    class_predicted = predictor.predict_classes(features)\n",
    "    probabilities = predictor.predict_proba(features)\n",
    "    \n",
    "    inID = class_predicted[0]\n",
    "    label = inv_map[inID]\n",
    "    \n",
    "    result.append(label)\n",
    "    \n",
    "print('The images are: ', ', '.join(result))\n",
    "\n",
    "# Find recipes with intersections\n",
    "d3, d2, d1, d = intersect(df, result)\n",
    "# Output recipes\n",
    "out3, link3 =outputRecipes(d3)\n",
    "out2, link2 =outputRecipes(d2)\n",
    "out1, link1 =outputRecipes(d1)"
   ]
  },
  {
   "cell_type": "code",
   "execution_count": 6,
   "metadata": {},
   "outputs": [
    {
     "name": "stdout",
     "output_type": "stream",
     "text": [
      "Here are the top recipes for all 3 ingredients:  \n",
      "\n",
      "Skillet Greens with Cumin and Tomatoes http://www.epicurious.com/recipes/food/views/skillet-greens-with-cumin-and-tomatoes-241866 \n",
      "\n",
      "Fresh Garden Wrap http://www.epicurious.com/recipes/food/views/fresh-garden-wrap \n",
      "\n",
      "Quick Minestrone Soup http://www.epicurious.com/recipes/food/views/quick-minestrone-soup-236017 \n",
      "\n",
      "Here are the top recipes for 2 of 3 ingredients:  \n",
      " \n",
      "\n",
      "Presto Pizza http://www.epicurious.com/recipes/food/views/presto-pizza-230141 \n",
      "\n",
      "Rice with Kale and Tomatoes http://www.epicurious.com/recipes/food/views/rice-with-kale-and-tomatoes-13399 \n",
      "\n",
      "Broccoli and Cherry Tomato Salad http://www.epicurious.com/recipes/food/views/broccoli-and-cherry-tomato-salad-2218 \n",
      "\n",
      "Here are the top recipes for (at least) 1 of 3 ingredients:  \n",
      " \n",
      "\n",
      "Crushed Tomatoes http://www.epicurious.com/recipes/food/views/crushed-tomatoes-51255670 \n",
      "\n",
      "Crunchy Oil-Cured Tomatoes http://www.epicurious.com/recipes/food/views/crunchy-oil-cured-tomatoes-51108070 \n",
      "\n",
      "Tomatoes with Cream http://www.epicurious.com/recipes/food/views/tomatoes-with-cream-105498 \n",
      "\n"
     ]
    }
   ],
   "source": [
    "print('Here are the top recipes for all 3 ingredients: ','\\n')\n",
    "for h,l in zip(out3.title.head(3),link3):\n",
    "    print(h, end=\" \")\n",
    "    print(l,'\\n')\n",
    "    \n",
    "print('Here are the top recipes for 2 of 3 ingredients: ','\\n','\\n')\n",
    "for h,l in zip(out2.title.head(3),link2):\n",
    "    print(h, end=\" \")\n",
    "    print(l,'\\n')\n",
    "\n",
    "print('Here are the top recipes for (at least) 1 of 3 ingredients: ','\\n','\\n')\n",
    "for h,l in zip(out1.title.head(3),link1):\n",
    "    print(h, end=\" \")\n",
    "    print(l,'\\n')"
   ]
  },
  {
   "cell_type": "code",
   "execution_count": null,
   "metadata": {},
   "outputs": [],
   "source": []
  }
 ],
 "metadata": {
  "kernelspec": {
   "display_name": "Python 3",
   "language": "python",
   "name": "python3"
  },
  "language_info": {
   "codemirror_mode": {
    "name": "ipython",
    "version": 3
   },
   "file_extension": ".py",
   "mimetype": "text/x-python",
   "name": "python",
   "nbconvert_exporter": "python",
   "pygments_lexer": "ipython3",
   "version": "3.7.1"
  }
 },
 "nbformat": 4,
 "nbformat_minor": 2
}
