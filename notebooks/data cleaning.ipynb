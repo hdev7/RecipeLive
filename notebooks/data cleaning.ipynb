{
 "cells": [
  {
   "cell_type": "markdown",
   "metadata": {},
   "source": [
    "### Data preprocessing\n",
    "\n",
    "We will take the receipe json file created from data scraping (recipe_scrapper.py)\n",
    "- Load the json file into pandas dataframe\n",
    "- Data cleaning is performed on the unstructured data\n",
    "- After the data has been structures in the way we need it. I have pickeled the dataframes for use in other modules"
   ]
  },
  {
   "cell_type": "code",
   "execution_count": 1,
   "metadata": {},
   "outputs": [
    {
     "name": "stderr",
     "output_type": "stream",
     "text": [
      "c:\\users\\heman\\.conda\\envs\\tensor\\lib\\site-packages\\tqdm\\std.py:648: FutureWarning: The Panel class is removed from pandas. Accessing it from the top-level namespace will also be removed in the next version\n",
      "  from pandas import Panel\n"
     ]
    }
   ],
   "source": [
    "import os\n",
    "import json\n",
    "import pickle\n",
    "import time \n",
    "\n",
    "from PIL import Image\n",
    "import io\n",
    "import urllib.request\n",
    "\n",
    "import numpy as np\n",
    "import pandas as pd\n",
    "from pandas.io.json import json_normalize \n",
    "\n",
    "from functools import reduce\n",
    "\n",
    "from tqdm import tqdm\n",
    "tqdm.pandas()   # this is for progress_apply()"
   ]
  },
  {
   "cell_type": "code",
   "execution_count": 2,
   "metadata": {},
   "outputs": [],
   "source": [
    "#Caution: \n",
    "\"\"\" As I was appending json list in the scrapper script. You have to watch out for },{ and replace it with , \n",
    "    To get a better understanding check the save_recipes method of the scrapper\n",
    "    Since the json file is too big, text editors will crash. Use visual studio and replace the strings and also take care of\n",
    "    the , at the last\"\"\"\n",
    "with open('recipes_epicurious.json') as f:\n",
    "    data = json.load(f)"
   ]
  },
  {
   "cell_type": "code",
   "execution_count": 3,
   "metadata": {},
   "outputs": [
    {
     "data": {
      "text/plain": [
       "('http://www.epicurious.com/recipes/food/views/okonomiyaki-as-you-like-it-pancakes-with-bonito-flakes',\n",
       " {'title': 'Okonomiyaki (“As You Like It”) Pancakes With Bonito Flakes ',\n",
       "  'ingredients': ['1 ½ cups (180 g) all-purpose flour',\n",
       "   '1 teaspoon baking powder',\n",
       "   '¼ teaspoon sea salt',\n",
       "   '1 large egg, beaten',\n",
       "   '1¼ cups (296 ml) whole milk or milk of your choice',\n",
       "   '8 ounces (230 g) cabbage, thinly sliced',\n",
       "   '2 scallions, white and light green parts chopped',\n",
       "   '½ yellow, green, or red bell pepper, thinly sliced',\n",
       "   '4 tablespoons vegetable oil',\n",
       "   '8 ounces (230 g) boneless chicken, shrimp, crab, or sukiyaki-style beef or pork, cut into ½-inch (12 mm) pieces',\n",
       "   '2 tablespoons mayonnaise',\n",
       "   '2 tablespoon or more homemade or store-bought Tonkatsu Sauce',\n",
       "   '½ cup (4 g) bonito flakes',\n",
       "   '½ cup (4 g) crumbled nori'],\n",
       "  'instructions': 'Whisk together the flour, baking powder, and salt in a small bowl.In a medium bowl, whisk the egg and milk. Add the flour mixture and mix until just blended. The batter should be quite thin. Add the chopped vegetables to the batter and mix well.Heat 1 tablespoon of the oil in a medium non- stick skillet over medium-high heat. Pour ¼ cup (60 ml) of the batter to make a 6-inch (15 cm) pancake. Cook until medium brown, about 1 minute. Place ¼ of the meat on top of the pancake and then flip the meat side down. Turn heat to low and cook until the bottom of the pancake is browned, the meat is thoroughly cooked, and the vegetables are tender—about 10 minutes. Repeat until the batter is used up.To serve, brush the pancake with mayonnaise and tonkatsu sauce, or soy sauce. Sprinkle with the bonito flakes and crumbled nori. Eat while piping hot.',\n",
       "  'picture_link': 'https://assets.epicurious.com/photos/5dfbeb3a8a7c8f0008b67fe6/6:4/w_274%2Ch_169/Japanese-Home-Cooking-Okonomiyaki-Recipe-121919.jpg',\n",
       "  'tags': ['Pancake',\n",
       "   'Dinner',\n",
       "   'Breakfast',\n",
       "   'Cabbage',\n",
       "   'Green Onion/Scallion',\n",
       "   'Bell Pepper',\n",
       "   'Tree Nut Free']})"
      ]
     },
     "execution_count": 3,
     "metadata": {},
     "output_type": "execute_result"
    }
   ],
   "source": [
    "list(data.items())[0]"
   ]
  },
  {
   "cell_type": "code",
   "execution_count": 4,
   "metadata": {},
   "outputs": [],
   "source": [
    "# Collect the keys of (top-level) dictionary\n",
    "dict_keys = [each for each in data.keys()]\n",
    "\n",
    "# Create a dataframe for dictionaryb-keys\n",
    "df_dictkeys = pd.DataFrame(dict_keys, columns=['url'])"
   ]
  },
  {
   "cell_type": "code",
   "execution_count": 5,
   "metadata": {},
   "outputs": [],
   "source": [
    "#Normalize semi-structured JSON data into a flat table. json_normalize returns a dataframe.\n",
    "data = [json_normalize(data[each]) for each in dict_keys]"
   ]
  },
  {
   "cell_type": "code",
   "execution_count": 6,
   "metadata": {},
   "outputs": [],
   "source": [
    "df = pd.DataFrame(data[0])\n",
    "for i in data[1:]:\n",
    "    df = df.append(i)"
   ]
  },
  {
   "cell_type": "code",
   "execution_count": 7,
   "metadata": {},
   "outputs": [
    {
     "data": {
      "text/html": [
       "<div>\n",
       "<style scoped>\n",
       "    .dataframe tbody tr th:only-of-type {\n",
       "        vertical-align: middle;\n",
       "    }\n",
       "\n",
       "    .dataframe tbody tr th {\n",
       "        vertical-align: top;\n",
       "    }\n",
       "\n",
       "    .dataframe thead th {\n",
       "        text-align: right;\n",
       "    }\n",
       "</style>\n",
       "<table border=\"1\" class=\"dataframe\">\n",
       "  <thead>\n",
       "    <tr style=\"text-align: right;\">\n",
       "      <th></th>\n",
       "      <th>title</th>\n",
       "      <th>ingredients</th>\n",
       "      <th>instructions</th>\n",
       "      <th>picture_link</th>\n",
       "      <th>tags</th>\n",
       "    </tr>\n",
       "  </thead>\n",
       "  <tbody>\n",
       "    <tr>\n",
       "      <th>0</th>\n",
       "      <td>Minted Asparagus Frittata</td>\n",
       "      <td>[4 large eggs, 1/3 cup ricotta cheese, 1 1/2 t...</td>\n",
       "      <td>Preheat broiler. Whisk first 5 ingredients and...</td>\n",
       "      <td>None</td>\n",
       "      <td>[Egg, Herb, Vegetable, Vegetarian, Quick &amp; Eas...</td>\n",
       "    </tr>\n",
       "    <tr>\n",
       "      <th>0</th>\n",
       "      <td>Bourbon Whipped Cream</td>\n",
       "      <td>[1 liquid cup heavy cream, cold, 1/2 teaspoon ...</td>\n",
       "      <td>In a large mixer bowl, place all the ingredien...</td>\n",
       "      <td>None</td>\n",
       "      <td>[Condiment/Spread, Bourbon, Milk/Cream, Mixer,...</td>\n",
       "    </tr>\n",
       "    <tr>\n",
       "      <th>0</th>\n",
       "      <td>Scallop and Bacon Chowder</td>\n",
       "      <td>[1 cup (packed) fresh Italian parsley, 3/4 cup...</td>\n",
       "      <td>Blend parsley, oil, and salt in blender until ...</td>\n",
       "      <td>None</td>\n",
       "      <td>[Soup/Stew, Pork, Potato, Shellfish, Appetizer...</td>\n",
       "    </tr>\n",
       "    <tr>\n",
       "      <th>0</th>\n",
       "      <td>Cranberry Walnut Tart</td>\n",
       "      <td>[Sweet pastry dough, 3 large eggs, 2/3 cup pac...</td>\n",
       "      <td>Roll out dough into a 13-inch round (1/8 inch ...</td>\n",
       "      <td>None</td>\n",
       "      <td>[Berry, Nut, Dessert, Bake, Thanksgiving, Cran...</td>\n",
       "    </tr>\n",
       "    <tr>\n",
       "      <th>0</th>\n",
       "      <td>Grilled Asian-Style Salmon with Cabbage and Mi...</td>\n",
       "      <td>[1 cup (packed) fresh mint leaves, 2 tablespoo...</td>\n",
       "      <td>Prepare barbecue (medium-high heat). Thinly sl...</td>\n",
       "      <td>None</td>\n",
       "      <td>[Ginger, Low/No Sugar, Mint, Salmon, Summer, G...</td>\n",
       "    </tr>\n",
       "  </tbody>\n",
       "</table>\n",
       "</div>"
      ],
      "text/plain": [
       "                                               title  \\\n",
       "0                         Minted Asparagus Frittata    \n",
       "0                             Bourbon Whipped Cream    \n",
       "0                         Scallop and Bacon Chowder    \n",
       "0                             Cranberry Walnut Tart    \n",
       "0  Grilled Asian-Style Salmon with Cabbage and Mi...   \n",
       "\n",
       "                                         ingredients  \\\n",
       "0  [4 large eggs, 1/3 cup ricotta cheese, 1 1/2 t...   \n",
       "0  [1 liquid cup heavy cream, cold, 1/2 teaspoon ...   \n",
       "0  [1 cup (packed) fresh Italian parsley, 3/4 cup...   \n",
       "0  [Sweet pastry dough, 3 large eggs, 2/3 cup pac...   \n",
       "0  [1 cup (packed) fresh mint leaves, 2 tablespoo...   \n",
       "\n",
       "                                        instructions picture_link  \\\n",
       "0  Preheat broiler. Whisk first 5 ingredients and...         None   \n",
       "0  In a large mixer bowl, place all the ingredien...         None   \n",
       "0  Blend parsley, oil, and salt in blender until ...         None   \n",
       "0  Roll out dough into a 13-inch round (1/8 inch ...         None   \n",
       "0  Prepare barbecue (medium-high heat). Thinly sl...         None   \n",
       "\n",
       "                                                tags  \n",
       "0  [Egg, Herb, Vegetable, Vegetarian, Quick & Eas...  \n",
       "0  [Condiment/Spread, Bourbon, Milk/Cream, Mixer,...  \n",
       "0  [Soup/Stew, Pork, Potato, Shellfish, Appetizer...  \n",
       "0  [Berry, Nut, Dessert, Bake, Thanksgiving, Cran...  \n",
       "0  [Ginger, Low/No Sugar, Mint, Salmon, Summer, G...  "
      ]
     },
     "execution_count": 7,
     "metadata": {},
     "output_type": "execute_result"
    }
   ],
   "source": [
    "df.tail()"
   ]
  },
  {
   "cell_type": "code",
   "execution_count": 8,
   "metadata": {},
   "outputs": [],
   "source": [
    "#merging the dataframes across index\n",
    "df = pd.DataFrame(np.c_[df, df_dictkeys], \n",
    "                   columns = df.columns.tolist() + df_dictkeys.columns.tolist())"
   ]
  },
  {
   "cell_type": "code",
   "execution_count": 9,
   "metadata": {},
   "outputs": [
    {
     "data": {
      "text/html": [
       "<div>\n",
       "<style scoped>\n",
       "    .dataframe tbody tr th:only-of-type {\n",
       "        vertical-align: middle;\n",
       "    }\n",
       "\n",
       "    .dataframe tbody tr th {\n",
       "        vertical-align: top;\n",
       "    }\n",
       "\n",
       "    .dataframe thead th {\n",
       "        text-align: right;\n",
       "    }\n",
       "</style>\n",
       "<table border=\"1\" class=\"dataframe\">\n",
       "  <thead>\n",
       "    <tr style=\"text-align: right;\">\n",
       "      <th></th>\n",
       "      <th>title</th>\n",
       "      <th>ingredients</th>\n",
       "      <th>instructions</th>\n",
       "      <th>picture_link</th>\n",
       "      <th>tags</th>\n",
       "      <th>url</th>\n",
       "    </tr>\n",
       "  </thead>\n",
       "  <tbody>\n",
       "    <tr>\n",
       "      <th>35967</th>\n",
       "      <td>Minted Asparagus Frittata</td>\n",
       "      <td>[4 large eggs, 1/3 cup ricotta cheese, 1 1/2 t...</td>\n",
       "      <td>Preheat broiler. Whisk first 5 ingredients and...</td>\n",
       "      <td>None</td>\n",
       "      <td>[Egg, Herb, Vegetable, Vegetarian, Quick &amp; Eas...</td>\n",
       "      <td>http://www.epicurious.com/recipes/food/views/m...</td>\n",
       "    </tr>\n",
       "    <tr>\n",
       "      <th>35968</th>\n",
       "      <td>Bourbon Whipped Cream</td>\n",
       "      <td>[1 liquid cup heavy cream, cold, 1/2 teaspoon ...</td>\n",
       "      <td>In a large mixer bowl, place all the ingredien...</td>\n",
       "      <td>None</td>\n",
       "      <td>[Condiment/Spread, Bourbon, Milk/Cream, Mixer,...</td>\n",
       "      <td>http://www.epicurious.com/recipes/food/views/b...</td>\n",
       "    </tr>\n",
       "    <tr>\n",
       "      <th>35969</th>\n",
       "      <td>Scallop and Bacon Chowder</td>\n",
       "      <td>[1 cup (packed) fresh Italian parsley, 3/4 cup...</td>\n",
       "      <td>Blend parsley, oil, and salt in blender until ...</td>\n",
       "      <td>None</td>\n",
       "      <td>[Soup/Stew, Pork, Potato, Shellfish, Appetizer...</td>\n",
       "      <td>http://www.epicurious.com/recipes/food/views/s...</td>\n",
       "    </tr>\n",
       "    <tr>\n",
       "      <th>35970</th>\n",
       "      <td>Cranberry Walnut Tart</td>\n",
       "      <td>[Sweet pastry dough, 3 large eggs, 2/3 cup pac...</td>\n",
       "      <td>Roll out dough into a 13-inch round (1/8 inch ...</td>\n",
       "      <td>None</td>\n",
       "      <td>[Berry, Nut, Dessert, Bake, Thanksgiving, Cran...</td>\n",
       "      <td>http://www.epicurious.com/recipes/food/views/c...</td>\n",
       "    </tr>\n",
       "    <tr>\n",
       "      <th>35971</th>\n",
       "      <td>Grilled Asian-Style Salmon with Cabbage and Mi...</td>\n",
       "      <td>[1 cup (packed) fresh mint leaves, 2 tablespoo...</td>\n",
       "      <td>Prepare barbecue (medium-high heat). Thinly sl...</td>\n",
       "      <td>None</td>\n",
       "      <td>[Ginger, Low/No Sugar, Mint, Salmon, Summer, G...</td>\n",
       "      <td>http://www.epicurious.com/recipes/food/views/g...</td>\n",
       "    </tr>\n",
       "  </tbody>\n",
       "</table>\n",
       "</div>"
      ],
      "text/plain": [
       "                                                   title  \\\n",
       "35967                         Minted Asparagus Frittata    \n",
       "35968                             Bourbon Whipped Cream    \n",
       "35969                         Scallop and Bacon Chowder    \n",
       "35970                             Cranberry Walnut Tart    \n",
       "35971  Grilled Asian-Style Salmon with Cabbage and Mi...   \n",
       "\n",
       "                                             ingredients  \\\n",
       "35967  [4 large eggs, 1/3 cup ricotta cheese, 1 1/2 t...   \n",
       "35968  [1 liquid cup heavy cream, cold, 1/2 teaspoon ...   \n",
       "35969  [1 cup (packed) fresh Italian parsley, 3/4 cup...   \n",
       "35970  [Sweet pastry dough, 3 large eggs, 2/3 cup pac...   \n",
       "35971  [1 cup (packed) fresh mint leaves, 2 tablespoo...   \n",
       "\n",
       "                                            instructions picture_link  \\\n",
       "35967  Preheat broiler. Whisk first 5 ingredients and...         None   \n",
       "35968  In a large mixer bowl, place all the ingredien...         None   \n",
       "35969  Blend parsley, oil, and salt in blender until ...         None   \n",
       "35970  Roll out dough into a 13-inch round (1/8 inch ...         None   \n",
       "35971  Prepare barbecue (medium-high heat). Thinly sl...         None   \n",
       "\n",
       "                                                    tags  \\\n",
       "35967  [Egg, Herb, Vegetable, Vegetarian, Quick & Eas...   \n",
       "35968  [Condiment/Spread, Bourbon, Milk/Cream, Mixer,...   \n",
       "35969  [Soup/Stew, Pork, Potato, Shellfish, Appetizer...   \n",
       "35970  [Berry, Nut, Dessert, Bake, Thanksgiving, Cran...   \n",
       "35971  [Ginger, Low/No Sugar, Mint, Salmon, Summer, G...   \n",
       "\n",
       "                                                     url  \n",
       "35967  http://www.epicurious.com/recipes/food/views/m...  \n",
       "35968  http://www.epicurious.com/recipes/food/views/b...  \n",
       "35969  http://www.epicurious.com/recipes/food/views/s...  \n",
       "35970  http://www.epicurious.com/recipes/food/views/c...  \n",
       "35971  http://www.epicurious.com/recipes/food/views/g...  "
      ]
     },
     "execution_count": 9,
     "metadata": {},
     "output_type": "execute_result"
    }
   ],
   "source": [
    "df.tail()"
   ]
  },
  {
   "cell_type": "markdown",
   "metadata": {},
   "source": [
    "#### Titles cleaning"
   ]
  },
  {
   "cell_type": "code",
   "execution_count": 10,
   "metadata": {},
   "outputs": [],
   "source": [
    "#cleaning\n",
    "\n",
    "\n",
    "# Replace None with zeros (0), so we can locate those easily\n",
    "df.fillna(value=0, inplace=True)\n",
    "\n",
    "# Fix the index\n",
    "df.reset_index(inplace=True, drop=True)\n",
    "               \n",
    "# Remove observations where its all zeros\n",
    "df = df[df.title!=0]\n",
    "\n",
    "# Remove observations where it has no title\n",
    "df= df[df.title != '']"
   ]
  },
  {
   "cell_type": "code",
   "execution_count": 11,
   "metadata": {},
   "outputs": [
    {
     "name": "stderr",
     "output_type": "stream",
     "text": [
      "100%|████████████████████████████████████████████████████████████████████████| 35965/35965 [00:00<00:00, 274485.95it/s]\n"
     ]
    }
   ],
   "source": [
    "# Create column that describes the number of words in title\n",
    "# progress_apply is supported by tqdm for pandas\n",
    "# I used it because the data is huge and knowning about the progress made sense for the use case.\n",
    "df['title_num'] = df['title'].progress_apply(lambda sent: len(sent.strip().split(' ')))"
   ]
  },
  {
   "cell_type": "code",
   "execution_count": 12,
   "metadata": {},
   "outputs": [
    {
     "data": {
      "text/html": [
       "<div>\n",
       "<style scoped>\n",
       "    .dataframe tbody tr th:only-of-type {\n",
       "        vertical-align: middle;\n",
       "    }\n",
       "\n",
       "    .dataframe tbody tr th {\n",
       "        vertical-align: top;\n",
       "    }\n",
       "\n",
       "    .dataframe thead th {\n",
       "        text-align: right;\n",
       "    }\n",
       "</style>\n",
       "<table border=\"1\" class=\"dataframe\">\n",
       "  <thead>\n",
       "    <tr style=\"text-align: right;\">\n",
       "      <th></th>\n",
       "      <th>title</th>\n",
       "      <th>ingredients</th>\n",
       "      <th>instructions</th>\n",
       "      <th>picture_link</th>\n",
       "      <th>tags</th>\n",
       "      <th>url</th>\n",
       "      <th>title_num</th>\n",
       "    </tr>\n",
       "  </thead>\n",
       "  <tbody>\n",
       "    <tr>\n",
       "      <th>26267</th>\n",
       "      <td>Old-Fashioned Carrot Cake with Maple&amp;#045cream...</td>\n",
       "      <td>[]</td>\n",
       "      <td></td>\n",
       "      <td>0</td>\n",
       "      <td>[]</td>\n",
       "      <td>http://www.epicurious.com/recipes/food/views/o...</td>\n",
       "      <td>15014</td>\n",
       "    </tr>\n",
       "    <tr>\n",
       "      <th>29351</th>\n",
       "      <td>Smoked Salmon with Mustard&amp;#045dill Sauce &lt;/h1...</td>\n",
       "      <td>[]</td>\n",
       "      <td></td>\n",
       "      <td>0</td>\n",
       "      <td>[]</td>\n",
       "      <td>http://www.epicurious.com/recipes/food/views/s...</td>\n",
       "      <td>10853</td>\n",
       "    </tr>\n",
       "    <tr>\n",
       "      <th>27768</th>\n",
       "      <td>Patatine e Carciofi Arrosto\\n                r...</td>\n",
       "      <td>[1 tablespoon finely grated fresh lemon zest, ...</td>\n",
       "      <td>In a bowl stir together gremolata ingredients....</td>\n",
       "      <td>0</td>\n",
       "      <td>[Herb, Potato, Side, Roast, Passover, Vegetari...</td>\n",
       "      <td>http://www.epicurious.com/recipes/food/views/p...</td>\n",
       "      <td>23</td>\n",
       "    </tr>\n",
       "  </tbody>\n",
       "</table>\n",
       "</div>"
      ],
      "text/plain": [
       "                                                   title  \\\n",
       "26267  Old-Fashioned Carrot Cake with Maple&#045cream...   \n",
       "29351  Smoked Salmon with Mustard&#045dill Sauce </h1...   \n",
       "27768  Patatine e Carciofi Arrosto\\n                r...   \n",
       "\n",
       "                                             ingredients  \\\n",
       "26267                                                 []   \n",
       "29351                                                 []   \n",
       "27768  [1 tablespoon finely grated fresh lemon zest, ...   \n",
       "\n",
       "                                            instructions picture_link  \\\n",
       "26267                                                               0   \n",
       "29351                                                               0   \n",
       "27768  In a bowl stir together gremolata ingredients....            0   \n",
       "\n",
       "                                                    tags  \\\n",
       "26267                                                 []   \n",
       "29351                                                 []   \n",
       "27768  [Herb, Potato, Side, Roast, Passover, Vegetari...   \n",
       "\n",
       "                                                     url  title_num  \n",
       "26267  http://www.epicurious.com/recipes/food/views/o...      15014  \n",
       "29351  http://www.epicurious.com/recipes/food/views/s...      10853  \n",
       "27768  http://www.epicurious.com/recipes/food/views/p...         23  "
      ]
     },
     "execution_count": 12,
     "metadata": {},
     "output_type": "execute_result"
    }
   ],
   "source": [
    "\n",
    "# Sort by title length\n",
    "df.sort_values(by='title_num', ascending=False).head(3)"
   ]
  },
  {
   "cell_type": "code",
   "execution_count": 13,
   "metadata": {},
   "outputs": [
    {
     "name": "stderr",
     "output_type": "stream",
     "text": [
      "100%|████████████████████████████████████████████████████████████████████████| 35965/35965 [00:00<00:00, 235027.09it/s]\n"
     ]
    }
   ],
   "source": [
    "# Replace ''\\n' with a space\n",
    "df['title']= df['title'].str.replace('\\n', ' ')\n",
    "# Split multiple spaces \n",
    "df['title'] = df['title'].progress_apply(lambda sent: sent.strip().split(' '))"
   ]
  },
  {
   "cell_type": "code",
   "execution_count": 14,
   "metadata": {},
   "outputs": [],
   "source": [
    "def stripChar(name):\n",
    "    '''function returns name without trailing characters in listChars\n",
    "    Input:\n",
    "        name      - name to strip\n",
    "        listChars - list of characters (e.g., ['*','+','-'])\n",
    "    '''\n",
    "    listChars = ['*','-','+',',','.']\n",
    "    # Use RECURSION to strip trailing characters in listChars (*, -, +)\n",
    "    if len(name) ==0:\n",
    "        newname=name\n",
    "    elif name[-1] in listChars:\n",
    "        newname = name[:-1]\n",
    "        newname = stripChar(newname)\n",
    "    else:\n",
    "        newname = name\n",
    "    return newname"
   ]
  },
  {
   "cell_type": "code",
   "execution_count": 15,
   "metadata": {},
   "outputs": [
    {
     "name": "stderr",
     "output_type": "stream",
     "text": [
      "100%|████████████████████████████████████████████████████████████████████████| 35965/35965 [00:00<00:00, 161629.48it/s]\n",
      "100%|████████████████████████████████████████████████████████████████████████| 35965/35965 [00:00<00:00, 370681.62it/s]\n",
      "100%|████████████████████████████████████████████████████████████████████████| 35965/35965 [00:00<00:00, 255938.13it/s]\n"
     ]
    }
   ],
   "source": [
    "\n",
    "# Filter out spaces from the list \n",
    "df['title'] = df['title'].progress_apply(lambda sent: [stripChar(w) for w in sent ])\n",
    "# Rejoining title\n",
    "df['title'] = df['title'].progress_apply(lambda words: ' '.join(words))\n",
    "# split based on space ' '\n",
    "df['title_num'] = df['title'].progress_apply(lambda sent: len(sent.split(' ')))"
   ]
  },
  {
   "cell_type": "markdown",
   "metadata": {},
   "source": [
    "### Collect images based on picture_link column"
   ]
  },
  {
   "cell_type": "code",
   "execution_count": 16,
   "metadata": {},
   "outputs": [
    {
     "name": "stdout",
     "output_type": "stream",
     "text": [
      "Only 35965 recipes actually have photos\n",
      "\n"
     ]
    }
   ],
   "source": [
    "# Check which observations have images?\n",
    "\n",
    "dfpic = df[(df.picture_link !=np.NaN)].reset_index(drop=True)\n",
    "print('Only', dfpic.shape[0], 'recipes actually have photos\\n')"
   ]
  },
  {
   "cell_type": "code",
   "execution_count": 17,
   "metadata": {},
   "outputs": [],
   "source": [
    "# Function to display the images\n",
    "def showPicture(df_in, index):\n",
    "    '''Function returns image, given dataframe and index\n",
    "    Input:\n",
    "        df_in .  - dataframe to access\n",
    "        index    - index of dataframe to show\n",
    "    '''\n",
    "    if df_in[df_in.index==index].picture_link.values[0] !=0:\n",
    "        fname= df_in[df_in.index==index].picture_link.values[0].split('/')[-1]\n",
    "        with open(f'../data/images/epicurious_images/{fname}', 'rb') as fin:\n",
    "            image_file = io.BytesIO(fin.read())\n",
    "        output = Image.open(image_file)\n",
    "        print(f'{df_in[df_in.index==index].title.values[0]}')\n",
    "    else:\n",
    "        with open(f'../data/images/epicurious_images/empty.jpg', 'rb') as fin:\n",
    "            image_file = io.BytesIO(fin.read())\n",
    "        output = Image.open(image_file)\n",
    "        print('No image for this recipe')\n",
    "    return output"
   ]
  },
  {
   "cell_type": "code",
   "execution_count": 18,
   "metadata": {},
   "outputs": [],
   "source": [
    "# Create index as id\n",
    "df = df.reset_index()\n",
    "\n",
    "# rename this index into `id`\n",
    "df.rename(columns = {'index':'id'}, inplace=True)"
   ]
  },
  {
   "cell_type": "code",
   "execution_count": 19,
   "metadata": {},
   "outputs": [
    {
     "data": {
      "text/html": [
       "<div>\n",
       "<style scoped>\n",
       "    .dataframe tbody tr th:only-of-type {\n",
       "        vertical-align: middle;\n",
       "    }\n",
       "\n",
       "    .dataframe tbody tr th {\n",
       "        vertical-align: top;\n",
       "    }\n",
       "\n",
       "    .dataframe thead th {\n",
       "        text-align: right;\n",
       "    }\n",
       "</style>\n",
       "<table border=\"1\" class=\"dataframe\">\n",
       "  <thead>\n",
       "    <tr style=\"text-align: right;\">\n",
       "      <th></th>\n",
       "      <th>id</th>\n",
       "      <th>title</th>\n",
       "      <th>ingredients</th>\n",
       "      <th>instructions</th>\n",
       "      <th>picture_link</th>\n",
       "      <th>tags</th>\n",
       "      <th>url</th>\n",
       "      <th>title_num</th>\n",
       "    </tr>\n",
       "  </thead>\n",
       "  <tbody>\n",
       "    <tr>\n",
       "      <th>0</th>\n",
       "      <td>0</td>\n",
       "      <td>Okonomiyaki (“As You Like It”) Pancakes With B...</td>\n",
       "      <td>[1 ½ cups (180 g) all-purpose flour, 1 teaspoo...</td>\n",
       "      <td>Whisk together the flour, baking powder, and s...</td>\n",
       "      <td>https://assets.epicurious.com/photos/5dfbeb3a8...</td>\n",
       "      <td>[Pancake, Dinner, Breakfast, Cabbage, Green On...</td>\n",
       "      <td>http://www.epicurious.com/recipes/food/views/o...</td>\n",
       "      <td>9</td>\n",
       "    </tr>\n",
       "    <tr>\n",
       "      <th>1</th>\n",
       "      <td>1</td>\n",
       "      <td>Paneer Butter Masala</td>\n",
       "      <td>[Canola oil, 1 pound hard paneer, cut into ¾-i...</td>\n",
       "      <td>Put a tablespoon of oil into a large lidded fr...</td>\n",
       "      <td>https://assets.epicurious.com/photos/5df7c9efa...</td>\n",
       "      <td>[cookbooks, Vegetarian, Ginger, Garlic, Tomato...</td>\n",
       "      <td>http://www.epicurious.com/recipes/food/views/p...</td>\n",
       "      <td>3</td>\n",
       "    </tr>\n",
       "    <tr>\n",
       "      <th>2</th>\n",
       "      <td>2</td>\n",
       "      <td>Pesto Pasta Frittata</td>\n",
       "      <td>[8 large eggs, ¼ cup whole milk or cream, ½ cu...</td>\n",
       "      <td>Set a rack in the upper third of the oven and ...</td>\n",
       "      <td>https://assets.epicurious.com/photos/5dfa5448a...</td>\n",
       "      <td>[cookbooks, Frittata, Egg, Milk/Cream, Parmesa...</td>\n",
       "      <td>http://www.epicurious.com/recipes/food/views/p...</td>\n",
       "      <td>3</td>\n",
       "    </tr>\n",
       "    <tr>\n",
       "      <th>3</th>\n",
       "      <td>3</td>\n",
       "      <td>Salmon Confit with Lime Juniper and Fennel</td>\n",
       "      <td>[2 limes, ½ teaspoon fine sea salt, plus more ...</td>\n",
       "      <td>Heat the oven to 325°F. Finely grate the zest ...</td>\n",
       "      <td>https://assets.epicurious.com/photos/5dfa62b17...</td>\n",
       "      <td>[cookbooks, Salmon, Olive Oil, Lime, Fennel, T...</td>\n",
       "      <td>http://www.epicurious.com/recipes/food/views/s...</td>\n",
       "      <td>7</td>\n",
       "    </tr>\n",
       "    <tr>\n",
       "      <th>4</th>\n",
       "      <td>4</td>\n",
       "      <td>Coconut-Braised Chickpeas with Sweet Potatoes ...</td>\n",
       "      <td>[½ cup slivered almonds, 2 tablespoons coconut...</td>\n",
       "      <td>Toast the almonds in a small, dry skillet set ...</td>\n",
       "      <td>https://assets.epicurious.com/photos/5dfa5857e...</td>\n",
       "      <td>[cookbooks, Curry, Coconut]</td>\n",
       "      <td>http://www.epicurious.com/recipes/food/views/c...</td>\n",
       "      <td>7</td>\n",
       "    </tr>\n",
       "  </tbody>\n",
       "</table>\n",
       "</div>"
      ],
      "text/plain": [
       "   id                                              title  \\\n",
       "0   0  Okonomiyaki (“As You Like It”) Pancakes With B...   \n",
       "1   1                               Paneer Butter Masala   \n",
       "2   2                               Pesto Pasta Frittata   \n",
       "3   3         Salmon Confit with Lime Juniper and Fennel   \n",
       "4   4  Coconut-Braised Chickpeas with Sweet Potatoes ...   \n",
       "\n",
       "                                         ingredients  \\\n",
       "0  [1 ½ cups (180 g) all-purpose flour, 1 teaspoo...   \n",
       "1  [Canola oil, 1 pound hard paneer, cut into ¾-i...   \n",
       "2  [8 large eggs, ¼ cup whole milk or cream, ½ cu...   \n",
       "3  [2 limes, ½ teaspoon fine sea salt, plus more ...   \n",
       "4  [½ cup slivered almonds, 2 tablespoons coconut...   \n",
       "\n",
       "                                        instructions  \\\n",
       "0  Whisk together the flour, baking powder, and s...   \n",
       "1  Put a tablespoon of oil into a large lidded fr...   \n",
       "2  Set a rack in the upper third of the oven and ...   \n",
       "3  Heat the oven to 325°F. Finely grate the zest ...   \n",
       "4  Toast the almonds in a small, dry skillet set ...   \n",
       "\n",
       "                                        picture_link  \\\n",
       "0  https://assets.epicurious.com/photos/5dfbeb3a8...   \n",
       "1  https://assets.epicurious.com/photos/5df7c9efa...   \n",
       "2  https://assets.epicurious.com/photos/5dfa5448a...   \n",
       "3  https://assets.epicurious.com/photos/5dfa62b17...   \n",
       "4  https://assets.epicurious.com/photos/5dfa5857e...   \n",
       "\n",
       "                                                tags  \\\n",
       "0  [Pancake, Dinner, Breakfast, Cabbage, Green On...   \n",
       "1  [cookbooks, Vegetarian, Ginger, Garlic, Tomato...   \n",
       "2  [cookbooks, Frittata, Egg, Milk/Cream, Parmesa...   \n",
       "3  [cookbooks, Salmon, Olive Oil, Lime, Fennel, T...   \n",
       "4                        [cookbooks, Curry, Coconut]   \n",
       "\n",
       "                                                 url  title_num  \n",
       "0  http://www.epicurious.com/recipes/food/views/o...          9  \n",
       "1  http://www.epicurious.com/recipes/food/views/p...          3  \n",
       "2  http://www.epicurious.com/recipes/food/views/p...          3  \n",
       "3  http://www.epicurious.com/recipes/food/views/s...          7  \n",
       "4  http://www.epicurious.com/recipes/food/views/c...          7  "
      ]
     },
     "execution_count": 19,
     "metadata": {},
     "output_type": "execute_result"
    }
   ],
   "source": [
    "df.head()"
   ]
  },
  {
   "cell_type": "code",
   "execution_count": 20,
   "metadata": {},
   "outputs": [],
   "source": [
    "\n",
    "# Create subset of df_INGREDIENTS for exploratory analysis \n",
    "df_title = df[['id','title','title_num','picture_link']]\n",
    "df_ingredients = df[['id','title','ingredients', 'tags',\n",
    "                     'picture_link','instructions','url']]\n",
    "\n"
   ]
  },
  {
   "cell_type": "code",
   "execution_count": 21,
   "metadata": {},
   "outputs": [],
   "source": [
    "# Pickle sections\n",
    "with open('df_epi_title.pkl','wb') as fout:\n",
    "    pickle.dump(df_title, fout)\n",
    "\n",
    "with open('df_epi_ingred.pkl','wb') as fout:\n",
    "    pickle.dump(df_ingredients, fout)\n",
    "    \n",
    "with open('df_epi_cleaner.pkl','wb') as fout:\n",
    "    pickle.dump(df, fout)"
   ]
  },
  {
   "cell_type": "code",
   "execution_count": null,
   "metadata": {},
   "outputs": [],
   "source": []
  }
 ],
 "metadata": {
  "kernelspec": {
   "display_name": "Python 3",
   "language": "python",
   "name": "python3"
  },
  "language_info": {
   "codemirror_mode": {
    "name": "ipython",
    "version": 3
   },
   "file_extension": ".py",
   "mimetype": "text/x-python",
   "name": "python",
   "nbconvert_exporter": "python",
   "pygments_lexer": "ipython3",
   "version": "3.7.1"
  }
 },
 "nbformat": 4,
 "nbformat_minor": 2
}
